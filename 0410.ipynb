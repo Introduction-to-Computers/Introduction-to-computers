{
  "nbformat": 4,
  "nbformat_minor": 0,
  "metadata": {
    "colab": {
      "provenance": [],
      "authorship_tag": "ABX9TyNPCYv5JNyVKeMVe0sAeKNw",
      "include_colab_link": true
    },
    "kernelspec": {
      "name": "python3",
      "display_name": "Python 3"
    },
    "language_info": {
      "name": "python"
    }
  },
  "cells": [
    {
      "cell_type": "markdown",
      "metadata": {
        "id": "view-in-github",
        "colab_type": "text"
      },
      "source": [
        "<a href=\"https://colab.research.google.com/github/Tku-shouhsin/Introduction-to-computers/blob/main/0410.ipynb\" target=\"_parent\"><img src=\"https://colab.research.google.com/assets/colab-badge.svg\" alt=\"Open In Colab\"/></a>"
      ]
    },
    {
      "cell_type": "code",
      "execution_count": 6,
      "metadata": {
        "colab": {
          "base_uri": "https://localhost:8080/"
        },
        "id": "KqXmo33-CLA5",
        "outputId": "b5a93761-9659-41b5-85e2-0dfdf639c8fb"
      },
      "outputs": [
        {
          "output_type": "stream",
          "name": "stdout",
          "text": [
            "0410\n"
          ]
        }
      ],
      "source": [
        " print(\"0410\")"
      ]
    },
    {
      "cell_type": "code",
      "source": [
        " 6+9==2+13"
      ],
      "metadata": {
        "colab": {
          "base_uri": "https://localhost:8080/"
        },
        "id": "1eWZkYULFcPQ",
        "outputId": "872e3a03-81f3-4081-d7a3-1f735926cd80"
      },
      "execution_count": 2,
      "outputs": [
        {
          "output_type": "execute_result",
          "data": {
            "text/plain": [
              "True"
            ]
          },
          "metadata": {},
          "execution_count": 2
        }
      ]
    },
    {
      "cell_type": "code",
      "source": [
        " 8+9==2+13"
      ],
      "metadata": {
        "colab": {
          "base_uri": "https://localhost:8080/"
        },
        "id": "JcPYftLLFm-f",
        "outputId": "e99f095e-4840-4f51-fdad-d6419e3ce351"
      },
      "execution_count": 7,
      "outputs": [
        {
          "output_type": "execute_result",
          "data": {
            "text/plain": [
              "False"
            ]
          },
          "metadata": {},
          "execution_count": 7
        }
      ]
    },
    {
      "cell_type": "code",
      "source": [
        " 8+9!=2+13"
      ],
      "metadata": {
        "colab": {
          "base_uri": "https://localhost:8080/"
        },
        "id": "B8fXV6ZkFyR5",
        "outputId": "88255065-38f0-4a0c-e320-bfeec6ab5ca5"
      },
      "execution_count": 9,
      "outputs": [
        {
          "output_type": "execute_result",
          "data": {
            "text/plain": [
              "True"
            ]
          },
          "metadata": {},
          "execution_count": 9
        }
      ]
    },
    {
      "cell_type": "code",
      "source": [
        " 6+9!=2+13"
      ],
      "metadata": {
        "colab": {
          "base_uri": "https://localhost:8080/"
        },
        "id": "XnCQ1XGBFyW4",
        "outputId": "9a32cbfa-95ae-4a1f-bc1d-fac62b56df52"
      },
      "execution_count": 10,
      "outputs": [
        {
          "output_type": "execute_result",
          "data": {
            "text/plain": [
              "False"
            ]
          },
          "metadata": {},
          "execution_count": 10
        }
      ]
    },
    {
      "cell_type": "code",
      "source": [
        " 8+9>2+13"
      ],
      "metadata": {
        "colab": {
          "base_uri": "https://localhost:8080/"
        },
        "id": "iRmIOHfjFyb3",
        "outputId": "b6eea49f-ba51-4802-bfba-ce3ac9516bf3"
      },
      "execution_count": 11,
      "outputs": [
        {
          "output_type": "execute_result",
          "data": {
            "text/plain": [
              "True"
            ]
          },
          "metadata": {},
          "execution_count": 11
        }
      ]
    },
    {
      "cell_type": "code",
      "source": [
        " 6+9>2+13"
      ],
      "metadata": {
        "colab": {
          "base_uri": "https://localhost:8080/"
        },
        "id": "a7cIPvIxFyhB",
        "outputId": "bcd4cc80-7fc9-404a-f931-d496265ca02f"
      },
      "execution_count": 12,
      "outputs": [
        {
          "output_type": "execute_result",
          "data": {
            "text/plain": [
              "False"
            ]
          },
          "metadata": {},
          "execution_count": 12
        }
      ]
    },
    {
      "cell_type": "code",
      "source": [
        " 5+9<2+13"
      ],
      "metadata": {
        "colab": {
          "base_uri": "https://localhost:8080/"
        },
        "id": "RTHWIJ5DFyke",
        "outputId": "0a17ada6-250f-4bf0-aceb-c8649b9f3d09"
      },
      "execution_count": 13,
      "outputs": [
        {
          "output_type": "execute_result",
          "data": {
            "text/plain": [
              "True"
            ]
          },
          "metadata": {},
          "execution_count": 13
        }
      ]
    },
    {
      "cell_type": "code",
      "source": [
        " 8+9<2+13 "
      ],
      "metadata": {
        "id": "Lvdzr54fHThP",
        "outputId": "8a4300b3-51db-4080-f468-ca7c321fbf13",
        "colab": {
          "base_uri": "https://localhost:8080/"
        }
      },
      "execution_count": 14,
      "outputs": [
        {
          "output_type": "execute_result",
          "data": {
            "text/plain": [
              "False"
            ]
          },
          "metadata": {},
          "execution_count": 14
        }
      ]
    },
    {
      "cell_type": "code",
      "source": [
        " 6+9>=2+13"
      ],
      "metadata": {
        "id": "LOrX92jzHTpV",
        "outputId": "79d53a4b-b170-4c3e-9840-e6d5c727128b",
        "colab": {
          "base_uri": "https://localhost:8080/"
        }
      },
      "execution_count": 15,
      "outputs": [
        {
          "output_type": "execute_result",
          "data": {
            "text/plain": [
              "True"
            ]
          },
          "metadata": {},
          "execution_count": 15
        }
      ]
    },
    {
      "cell_type": "code",
      "source": [
        " 3+9>=2+13"
      ],
      "metadata": {
        "id": "S6tfgeCaHTsN",
        "outputId": "c52fd95f-1d57-4ba9-cf24-e742bc212cec",
        "colab": {
          "base_uri": "https://localhost:8080/"
        }
      },
      "execution_count": 16,
      "outputs": [
        {
          "output_type": "execute_result",
          "data": {
            "text/plain": [
              "False"
            ]
          },
          "metadata": {},
          "execution_count": 16
        }
      ]
    },
    {
      "cell_type": "code",
      "source": [
        " 3+9<=2+13"
      ],
      "metadata": {
        "id": "zi99ahz7Hsxw",
        "outputId": "464878b4-d9c2-4249-fef8-b0c101ac717b",
        "colab": {
          "base_uri": "https://localhost:8080/"
        }
      },
      "execution_count": 17,
      "outputs": [
        {
          "output_type": "execute_result",
          "data": {
            "text/plain": [
              "True"
            ]
          },
          "metadata": {},
          "execution_count": 17
        }
      ]
    },
    {
      "cell_type": "code",
      "source": [
        " 8+9<=2+13"
      ],
      "metadata": {
        "id": "Wrr6dy5QHs59",
        "outputId": "c7c94536-025a-45d3-fbf5-1cb513fe7219",
        "colab": {
          "base_uri": "https://localhost:8080/"
        }
      },
      "execution_count": 18,
      "outputs": [
        {
          "output_type": "execute_result",
          "data": {
            "text/plain": [
              "False"
            ]
          },
          "metadata": {},
          "execution_count": 18
        }
      ]
    },
    {
      "cell_type": "code",
      "source": [
        " i = 10"
      ],
      "metadata": {
        "id": "oq1qrHF0Hs9X"
      },
      "execution_count": 24,
      "outputs": []
    },
    {
      "cell_type": "code",
      "source": [
        " i "
      ],
      "metadata": {
        "id": "WT_31JBfHtB5",
        "outputId": "baa45e2e-2d06-4f0d-ecea-61e522c493da",
        "colab": {
          "base_uri": "https://localhost:8080/"
        }
      },
      "execution_count": 25,
      "outputs": [
        {
          "output_type": "execute_result",
          "data": {
            "text/plain": [
              "10"
            ]
          },
          "metadata": {},
          "execution_count": 25
        }
      ]
    },
    {
      "cell_type": "code",
      "source": [
        " i += 5"
      ],
      "metadata": {
        "id": "JWXCAWv9HtF4"
      },
      "execution_count": 26,
      "outputs": []
    },
    {
      "cell_type": "code",
      "source": [
        " i"
      ],
      "metadata": {
        "id": "O5p_KGalI6IJ",
        "outputId": "a885c648-bfa4-40cc-964f-6bdc943cad87",
        "colab": {
          "base_uri": "https://localhost:8080/"
        }
      },
      "execution_count": 27,
      "outputs": [
        {
          "output_type": "execute_result",
          "data": {
            "text/plain": [
              "15"
            ]
          },
          "metadata": {},
          "execution_count": 27
        }
      ]
    },
    {
      "cell_type": "code",
      "source": [
        " i-=5"
      ],
      "metadata": {
        "id": "lS2xc_HzI6P1"
      },
      "execution_count": 28,
      "outputs": []
    },
    {
      "cell_type": "code",
      "source": [
        " i"
      ],
      "metadata": {
        "id": "hp0Ke6zOJDft",
        "outputId": "aefd80b5-5666-469d-e3c0-579f555f16d3",
        "colab": {
          "base_uri": "https://localhost:8080/"
        }
      },
      "execution_count": 29,
      "outputs": [
        {
          "output_type": "execute_result",
          "data": {
            "text/plain": [
              "10"
            ]
          },
          "metadata": {},
          "execution_count": 29
        }
      ]
    },
    {
      "cell_type": "code",
      "source": [
        " i*=5"
      ],
      "metadata": {
        "id": "0McM3JLvJDj9"
      },
      "execution_count": 30,
      "outputs": []
    },
    {
      "cell_type": "code",
      "source": [
        " i"
      ],
      "metadata": {
        "id": "H27N4pPmJDnm",
        "outputId": "196f04b4-d592-4a9f-fe19-db71e5a7cfac",
        "colab": {
          "base_uri": "https://localhost:8080/"
        }
      },
      "execution_count": 31,
      "outputs": [
        {
          "output_type": "execute_result",
          "data": {
            "text/plain": [
              "50"
            ]
          },
          "metadata": {},
          "execution_count": 31
        }
      ]
    },
    {
      "cell_type": "code",
      "source": [
        " i/= 5"
      ],
      "metadata": {
        "id": "UkbgUl17JLV2"
      },
      "execution_count": 69,
      "outputs": []
    },
    {
      "cell_type": "code",
      "source": [
        " i"
      ],
      "metadata": {
        "id": "YHgIZ0YiJLbF",
        "outputId": "49b1d0c8-e0d9-4386-8d57-4fc1e16f793c",
        "colab": {
          "base_uri": "https://localhost:8080/"
        }
      },
      "execution_count": 70,
      "outputs": [
        {
          "output_type": "execute_result",
          "data": {
            "text/plain": [
              "0.0"
            ]
          },
          "metadata": {},
          "execution_count": 70
        }
      ]
    },
    {
      "cell_type": "code",
      "source": [
        " i%=5"
      ],
      "metadata": {
        "id": "M1H6x6xNJLd3"
      },
      "execution_count": 71,
      "outputs": []
    },
    {
      "cell_type": "code",
      "source": [
        " i"
      ],
      "metadata": {
        "id": "fk3lszqwJelX",
        "outputId": "c243a7ea-cee8-441a-d5d4-7e9e47d56f57",
        "colab": {
          "base_uri": "https://localhost:8080/"
        }
      },
      "execution_count": 72,
      "outputs": [
        {
          "output_type": "execute_result",
          "data": {
            "text/plain": [
              "0.0"
            ]
          },
          "metadata": {},
          "execution_count": 72
        }
      ]
    },
    {
      "cell_type": "code",
      "source": [
        " i //= 5"
      ],
      "metadata": {
        "id": "E6nY8unxJeoH"
      },
      "execution_count": 81,
      "outputs": []
    },
    {
      "cell_type": "code",
      "source": [
        " i"
      ],
      "metadata": {
        "id": "Lh30F1vKJ-dY",
        "outputId": "8648fa75-83a5-402c-9319-5844ea1bcc21",
        "colab": {
          "base_uri": "https://localhost:8080/"
        }
      },
      "execution_count": 74,
      "outputs": [
        {
          "output_type": "execute_result",
          "data": {
            "text/plain": [
              "0.0"
            ]
          },
          "metadata": {},
          "execution_count": 74
        }
      ]
    },
    {
      "cell_type": "code",
      "source": [
        " i**=3"
      ],
      "metadata": {
        "id": "8NNnUf0iJ-hF"
      },
      "execution_count": 82,
      "outputs": []
    },
    {
      "cell_type": "code",
      "source": [
        " i"
      ],
      "metadata": {
        "id": "s1IrXwnsJ-lz",
        "outputId": "65324211-84e5-40aa-c7f5-f7773e7335ea",
        "colab": {
          "base_uri": "https://localhost:8080/"
        }
      },
      "execution_count": 79,
      "outputs": [
        {
          "output_type": "execute_result",
          "data": {
            "text/plain": [
              "0.0"
            ]
          },
          "metadata": {},
          "execution_count": 79
        }
      ]
    },
    {
      "cell_type": "code",
      "source": [
        "身高 = int(input('請輸入您的身高(cm):'))"
      ],
      "metadata": {
        "id": "Fi4wbSduJ-pH",
        "outputId": "8c65fe3d-caf1-4978-854d-3333d3f0bf73",
        "colab": {
          "base_uri": "https://localhost:8080/"
        }
      },
      "execution_count": 84,
      "outputs": [
        {
          "name": "stdout",
          "output_type": "stream",
          "text": [
            "請輸入您的身高(cm):167\n"
          ]
        }
      ]
    },
    {
      "cell_type": "code",
      "source": [
        "體重 = int(input('請輸您的體重(kg):'))"
      ],
      "metadata": {
        "id": "4zp7M6CyJ-sG",
        "outputId": "43671a10-d8b8-4b4d-891c-ab54130c1f38",
        "colab": {
          "base_uri": "https://localhost:8080/"
        }
      },
      "execution_count": 86,
      "outputs": [
        {
          "name": "stdout",
          "output_type": "stream",
          "text": [
            "請輸您的體重(kg):56 \n"
          ]
        }
      ]
    },
    {
      "cell_type": "code",
      "source": [
        " BMI=體重 / (身高/100)**2"
      ],
      "metadata": {
        "id": "Ogb-VbAoJ-u_"
      },
      "execution_count": 92,
      "outputs": []
    },
    {
      "cell_type": "code",
      "source": [
        " BMI"
      ],
      "metadata": {
        "id": "J7sZY5VIJ-xf",
        "outputId": "399c604c-dd10-4807-b97e-256bd9ec380d",
        "colab": {
          "base_uri": "https://localhost:8080/"
        }
      },
      "execution_count": 93,
      "outputs": [
        {
          "output_type": "execute_result",
          "data": {
            "text/plain": [
              "20.07960127648894"
            ]
          },
          "metadata": {},
          "execution_count": 93
        }
      ]
    }
  ]
}