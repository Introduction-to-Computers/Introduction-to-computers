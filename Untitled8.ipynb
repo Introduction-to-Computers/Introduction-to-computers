{
  "nbformat": 4,
  "nbformat_minor": 0,
  "metadata": {
    "colab": {
      "provenance": [],
      "authorship_tag": "ABX9TyMgLVA2yhN0fpjVRz0Tuu04",
      "include_colab_link": true
    },
    "kernelspec": {
      "name": "python3",
      "display_name": "Python 3"
    },
    "language_info": {
      "name": "python"
    }
  },
  "cells": [
    {
      "cell_type": "markdown",
      "metadata": {
        "id": "view-in-github",
        "colab_type": "text"
      },
      "source": [
        "<a href=\"https://colab.research.google.com/github/Tku-shouhsin/Introduction-to-computers/blob/main/Untitled8.ipynb\" target=\"_parent\"><img src=\"https://colab.research.google.com/assets/colab-badge.svg\" alt=\"Open In Colab\"/></a>"
      ]
    },
    {
      "cell_type": "code",
      "execution_count": 45,
      "metadata": {
        "colab": {
          "base_uri": "https://localhost:8080/"
        },
        "id": "0wvAODrbUmB1",
        "outputId": "014c95c1-fcbc-45f3-a070-3a617b779ce0"
      },
      "outputs": [
        {
          "output_type": "stream",
          "name": "stdout",
          "text": [
            "hi\n"
          ]
        }
      ],
      "source": [
        " print(\"hi\")"
      ]
    },
    {
      "cell_type": "code",
      "source": [
        " score =int(input(\"請輸入分數:\"))\n",
        " if score >=60:\n",
        "  print(\"及格\")\n",
        " else:\n",
        "   print(\"不及格\")"
      ],
      "metadata": {
        "colab": {
          "base_uri": "https://localhost:8080/"
        },
        "id": "WSocISgOU3Jd",
        "outputId": "773f1cc3-b844-4830-f13e-3566b94d4c18"
      },
      "execution_count": 46,
      "outputs": [
        {
          "output_type": "stream",
          "name": "stdout",
          "text": [
            "請輸入分數:60\n",
            "及格\n"
          ]
        }
      ]
    },
    {
      "cell_type": "code",
      "source": [
        " password = int (input(\"請輸入密碼:\"))\n",
        " if password == 1234:\n",
        "  print(\"密碼正確\")\n",
        " else:\n",
        "  print(\"密碼不正確\")"
      ],
      "metadata": {
        "colab": {
          "base_uri": "https://localhost:8080/"
        },
        "id": "ecwmTZUKWCIq",
        "outputId": "9c904988-0928-4d78-9d05-7b07c233de7b"
      },
      "execution_count": 47,
      "outputs": [
        {
          "output_type": "stream",
          "name": "stdout",
          "text": [
            "請輸入密碼:1111\n",
            "密碼不正確\n"
          ]
        }
      ]
    },
    {
      "cell_type": "code",
      "source": [
        " rain = input('今天會下雨嗎？')\n",
        " if rain == 'Y' or rain == 'y':\n",
        "   print('出門記得帶傘!')\n",
        " else:\n",
        "   print('不用帶傘')\n",
        "\n",
        " "
      ],
      "metadata": {
        "colab": {
          "base_uri": "https://localhost:8080/"
        },
        "id": "3d2LRSX1WCS9",
        "outputId": "1e26220a-386d-467e-b890-44d0b387306b"
      },
      "execution_count": 56,
      "outputs": [
        {
          "output_type": "stream",
          "name": "stdout",
          "text": [
            "今天會下雨嗎？Y\n",
            "出門記得帶傘!\n"
          ]
        }
      ]
    },
    {
      "cell_type": "code",
      "source": [
        "\n"
      ],
      "metadata": {
        "id": "Bx-YqtXlWCWg"
      },
      "execution_count": 47,
      "outputs": []
    },
    {
      "cell_type": "code",
      "source": [
        " num = int(input(\"請輸入一個整數：\"))\n",
        "\n",
        "if num % 2 == 0:\n",
        "    print(num, \"是偶數\")\n",
        "else:\n",
        "    print(num, \"是奇數\")"
      ],
      "metadata": {
        "colab": {
          "base_uri": "https://localhost:8080/"
        },
        "id": "rCzAMKVlWCZi",
        "outputId": "77ab0a3a-56d5-46e8-d717-2fd6b8398cd9"
      },
      "execution_count": 48,
      "outputs": [
        {
          "output_type": "stream",
          "name": "stdout",
          "text": [
            "請輸入一個整數：51\n",
            "51 是奇數\n"
          ]
        }
      ]
    },
    {
      "cell_type": "code",
      "source": [
        " num = int(input(\"請輸入一個整數：\"))\n",
        "\n",
        "if num % 2 == 0:\n",
        "    print(num, \"是偶數\")\n",
        "else:\n",
        "    print(num, \"是奇數\")"
      ],
      "metadata": {
        "colab": {
          "base_uri": "https://localhost:8080/"
        },
        "id": "yq9NlXWvdm3g",
        "outputId": "6da2f174-f5aa-4f40-b9db-99a9fe27d841"
      },
      "execution_count": 49,
      "outputs": [
        {
          "output_type": "stream",
          "name": "stdout",
          "text": [
            "請輸入一個整數：50\n",
            "50 是偶數\n"
          ]
        }
      ]
    }
  ]
}