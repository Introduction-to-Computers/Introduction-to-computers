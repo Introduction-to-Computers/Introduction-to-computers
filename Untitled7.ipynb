{
  "nbformat": 4,
  "nbformat_minor": 0,
  "metadata": {
    "colab": {
      "provenance": [],
      "authorship_tag": "ABX9TyO/iN97Duz0tJgK3PSVdmhQ",
      "include_colab_link": true
    },
    "kernelspec": {
      "name": "python3",
      "display_name": "Python 3"
    },
    "language_info": {
      "name": "python"
    }
  },
  "cells": [
    {
      "cell_type": "markdown",
      "metadata": {
        "id": "view-in-github",
        "colab_type": "text"
      },
      "source": [
        "<a href=\"https://colab.research.google.com/github/Tku-shouhsin/Introduction-to-computers/blob/main/Untitled7.ipynb\" target=\"_parent\"><img src=\"https://colab.research.google.com/assets/colab-badge.svg\" alt=\"Open In Colab\"/></a>"
      ]
    },
    {
      "cell_type": "code",
      "source": [
        "\n",
        "deposit = 10000 \n",
        "interest_rate = 0.02\n",
        "years = 6 "
      ],
      "metadata": {
        "id": "McJtasZSTi1D"
      },
      "execution_count": 6,
      "outputs": []
    },
    {
      "cell_type": "code",
      "source": [
        "for i in range(years):\n",
        " deposit *= (1 + interest_rate)"
      ],
      "metadata": {
        "id": "x-lhyZqRUZxZ"
      },
      "execution_count": 10,
      "outputs": []
    },
    {
      "cell_type": "code",
      "source": [
        "print(\"六年後的本金為:\", deposit)"
      ],
      "metadata": {
        "colab": {
          "base_uri": "https://localhost:8080/"
        },
        "id": "JTpCxYI_UiZ5",
        "outputId": "416953f9-748e-43e4-f198-0a4b14984fb5"
      },
      "execution_count": 11,
      "outputs": [
        {
          "output_type": "stream",
          "name": "stdout",
          "text": [
            "六年後的本金為: 12682.417945625453\n"
          ]
        }
      ]
    },
    {
      "cell_type": "code",
      "source": [
        "print(\"Hello World\" )"
      ],
      "metadata": {
        "colab": {
          "base_uri": "https://localhost:8080/"
        },
        "id": "WSxl1jxNUx3w",
        "outputId": "3230c1be-a5e0-4919-d077-a47262cc3c39"
      },
      "execution_count": 12,
      "outputs": [
        {
          "output_type": "stream",
          "name": "stdout",
          "text": [
            "Hello World\n"
          ]
        }
      ]
    },
    {
      "cell_type": "code",
      "source": [
        " F = 100"
      ],
      "metadata": {
        "id": "2hbuwdzaUyDZ"
      },
      "execution_count": 13,
      "outputs": []
    },
    {
      "cell_type": "code",
      "source": [
        " F = float(input(\"請輸入華氏溫度: \"))"
      ],
      "metadata": {
        "colab": {
          "base_uri": "https://localhost:8080/"
        },
        "id": "whyt2e6LUyHO",
        "outputId": "8d8e216f-6c32-4d6d-85ad-0924275fd14b"
      },
      "execution_count": 14,
      "outputs": [
        {
          "name": "stdout",
          "output_type": "stream",
          "text": [
            "請輸入華氏溫度: 100\n"
          ]
        }
      ]
    },
    {
      "cell_type": "code",
      "source": [
        " C = (F - 32) * 5 / 9"
      ],
      "metadata": {
        "id": "lYgd1co4Z9SV"
      },
      "execution_count": 15,
      "outputs": []
    },
    {
      "cell_type": "code",
      "source": [
        " C"
      ],
      "metadata": {
        "colab": {
          "base_uri": "https://localhost:8080/"
        },
        "id": "FL8f_3OaaFJG",
        "outputId": "ab8ab7f1-6f05-419b-db9c-79ab2afa8b98"
      },
      "execution_count": 16,
      "outputs": [
        {
          "output_type": "execute_result",
          "data": {
            "text/plain": [
              "37.77777777777778"
            ]
          },
          "metadata": {},
          "execution_count": 16
        }
      ]
    },
    {
      "cell_type": "code",
      "source": [
        " print(\"攝氏溫度為: %.1f\" % C)"
      ],
      "metadata": {
        "colab": {
          "base_uri": "https://localhost:8080/"
        },
        "id": "zYbXsUC_aM4p",
        "outputId": "9f2f9c92-895b-408b-c1cc-6a1b63f50069"
      },
      "execution_count": 17,
      "outputs": [
        {
          "output_type": "stream",
          "name": "stdout",
          "text": [
            "攝氏溫度為: 37.8\n"
          ]
        }
      ]
    },
    {
      "cell_type": "code",
      "source": [
        " G = int(input(\"請輸入一個整數: \"))"
      ],
      "metadata": {
        "colab": {
          "base_uri": "https://localhost:8080/"
        },
        "id": "j57pqNrUaNDn",
        "outputId": "15b85716-f502-4000-ae19-4c2d1afe1d69"
      },
      "execution_count": 18,
      "outputs": [
        {
          "name": "stdout",
          "output_type": "stream",
          "text": [
            "請輸入一個整數: 5\n"
          ]
        }
      ]
    },
    {
      "cell_type": "code",
      "source": [
        " total = 0\n",
        "for i in range(1, G+1):\n",
        "    total += i"
      ],
      "metadata": {
        "id": "QKeOPT7Gbjew"
      },
      "execution_count": 19,
      "outputs": []
    },
    {
      "cell_type": "code",
      "source": [
        " print(\"1到%a的所有整數和為：%a\" % (G, total))"
      ],
      "metadata": {
        "colab": {
          "base_uri": "https://localhost:8080/"
        },
        "id": "0Oawl9-Kbjo5",
        "outputId": "093af259-16ba-48c9-b6a2-f8f583fec6b0"
      },
      "execution_count": 21,
      "outputs": [
        {
          "output_type": "stream",
          "name": "stdout",
          "text": [
            "1到5的所有整數和為：15\n"
          ]
        }
      ]
    }
  ]
}